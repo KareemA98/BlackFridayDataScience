{
 "metadata": {
  "language_info": {
   "codemirror_mode": {
    "name": "ipython",
    "version": 3
   },
   "file_extension": ".py",
   "mimetype": "text/x-python",
   "name": "python",
   "nbconvert_exporter": "python",
   "pygments_lexer": "ipython3",
   "version": "3.7.4-final"
  },
  "orig_nbformat": 2,
  "kernelspec": {
   "name": "python37464bitcundallvenvdca6414806024527ae5ee2bf01b4d77d",
   "display_name": "Python 3.7.4 64-bit ('Cundall': venv)"
  }
 },
 "nbformat": 4,
 "nbformat_minor": 2,
 "cells": [
  {
   "cell_type": "code",
   "execution_count": 1,
   "metadata": {
    "tags": []
   },
   "outputs": [
    {
     "output_type": "stream",
     "name": "stderr",
     "text": "Using TensorFlow backend.\n"
    }
   ],
   "source": [
    "import pandas as pd\n",
    "import numpy as np \n",
    "from sklearn.preprocessing import LabelEncoder, OneHotEncoder\n",
    "from keras.models import Model\n",
    "from keras.layers import Embedding, Reshape, Dense, Activation, Dropout\n",
    "from keras.models import Sequential\n",
    "from keras.layers import concatenate, GlobalMaxPooling1D, Flatten, LSTM\n",
    "from keras import Input\n",
    "from keras.metrics import RootMeanSquaredError\n",
    "from keras import backend as K"
   ]
  },
  {
   "source": [
    "trainSet = pd.read_csv(\"C:\\\\Users\\\\krimb\\\\Documents\\\\BlackFridayDataScience\\\\train.csv\", header=0)\n",
    "testSet = pd.read_csv(\"C:\\\\Users\\\\krimb\\\\Documents\\\\BlackFridayDataScience\\\\test.csv\", header=0)\n",
    "\n",
    "trainSetLength = trainSet.shape[0]\n",
    "allSet = pd.concat((trainSet, testSet), axis=0)\n",
    "print(allSet.shape)\n",
    "allSet.fillna(0, inplace=True)\n",
    "\n",
    "labEncoding = [\"User_ID\", \"Product_ID\"]\n",
    "for x in labEncoding:\n",
    "    le = LabelEncoder()\n",
    "    le.fit(allSet[x])\n",
    "    allSet[x] = le.transform(allSet[x])\n",
    "\n",
    "catEncoding = [\"Gender\", \"Age\", \"Occupation\", \"City_Category\", \"Stay_In_Current_City_Years\", \"Marital_Status\", \"Product_Category_1\", \"Product_Category_2\", \"Product_Category_3\"]\n",
    "for y in catEncoding:\n",
    "    dummies = pd.get_dummies(allSet[y])\n",
    "    allSet = pd.concat((allSet, dummies), axis=1)\n",
    "    allSet = allSet.drop([y], axis=1)\n",
    "    print(allSet.shape)\n",
    "allSet['index'] = np.arange(len(allSet))\n",
    "allSet = allSet.set_index(['index'])\n",
    "allSet.sort_index()\n",
    "trainSet = allSet.truncate(after=(trainSetLength - 1))\n",
    "testSet = allSet.truncate(before=(trainSetLength))\n",
    "\n",
    "target = trainSet[\"Purchase\"]\n",
    "trainSet = trainSet.drop([\"Purchase\"], axis=1)\n",
    "testSet = testSet.drop([\"Purchase\"], axis=1)\n",
    "print(trainSet.shape)\n",
    "print(testSet.shape)"
   ],
   "cell_type": "code",
   "metadata": {
    "tags": []
   },
   "execution_count": 73,
   "outputs": [
    {
     "output_type": "stream",
     "name": "stdout",
     "text": "(783667, 12)\n(783667, 13)\n(783667, 19)\n(783667, 39)\n(783667, 41)\n(783667, 45)\n(783667, 46)\n(783667, 65)\n(783667, 82)\n(783667, 97)\n(550068, 96)\n(233599, 96)\n"
    }
   ]
  },
  {
   "cell_type": "code",
   "execution_count": 64,
   "metadata": {
    "tags": []
   },
   "outputs": [
    {
     "output_type": "stream",
     "name": "stdout",
     "text": "Epoch 1/50\n550068/550068 [==============================] - 6s 11us/step - loss: 12641.0919 - main_output_loss: 10522.6611 - aux_output1_loss: 10527.0449 - aux_output2_loss: 10526.8662\nEpoch 2/50\n550068/550068 [==============================] - 5s 10us/step - loss: 12615.2954 - main_output_loss: 10511.3662 - aux_output1_loss: 10540.4004 - aux_output2_loss: 10539.5488\nEpoch 3/50\n550068/550068 [==============================] - 5s 10us/step - loss: 12558.8001 - main_output_loss: 10458.0312 - aux_output1_loss: 10541.2520 - aux_output2_loss: 10539.8193\nEpoch 4/50\n550068/550068 [==============================] - 5s 10us/step - loss: 12483.9927 - main_output_loss: 10392.0166 - aux_output1_loss: 10547.5850 - aux_output2_loss: 10545.9170\nEpoch 5/50\n550068/550068 [==============================] - 5s 10us/step - loss: 12400.5529 - main_output_loss: 10288.4590 - aux_output1_loss: 10525.6279 - aux_output2_loss: 10523.9531\nEpoch 6/50\n550068/550068 [==============================] - 5s 10us/step - loss: 12309.7216 - main_output_loss: 10217.0645 - aux_output1_loss: 10543.4014 - aux_output2_loss: 10541.7725\nEpoch 7/50\n550068/550068 [==============================] - 5s 10us/step - loss: 12210.4739 - main_output_loss: 10088.2881 - aux_output1_loss: 10512.2969 - aux_output2_loss: 10510.6943\nEpoch 8/50\n550068/550068 [==============================] - 5s 10us/step - loss: 12101.2302 - main_output_loss: 10020.5850 - aux_output1_loss: 10552.6895 - aux_output2_loss: 10551.0947\nEpoch 9/50\n550068/550068 [==============================] - 5s 10us/step - loss: 11981.3615 - main_output_loss: 9863.6855 - aux_output1_loss: 10513.5576 - aux_output2_loss: 10511.9609\nEpoch 10/50\n550068/550068 [==============================] - 5s 9us/step - loss: 11850.7399 - main_output_loss: 9755.1631 - aux_output1_loss: 10534.8154 - aux_output2_loss: 10533.2314\nEpoch 11/50\n550068/550068 [==============================] - 5s 10us/step - loss: 11709.2834 - main_output_loss: 9626.6162 - aux_output1_loss: 10545.4443 - aux_output2_loss: 10543.8604\nEpoch 12/50\n550068/550068 [==============================] - 5s 10us/step - loss: 11557.3534 - main_output_loss: 9455.2051 - aux_output1_loss: 10524.7236 - aux_output2_loss: 10523.1348\nEpoch 13/50\n550068/550068 [==============================] - 5s 10us/step - loss: 11395.0180 - main_output_loss: 9288.9795 - aux_output1_loss: 10520.3291 - aux_output2_loss: 10518.7373\nEpoch 14/50\n550068/550068 [==============================] - 5s 9us/step - loss: 11222.5689 - main_output_loss: 9111.0850 - aux_output1_loss: 10512.9951 - aux_output2_loss: 10511.4219\nEpoch 15/50\n550068/550068 [==============================] - 5s 9us/step - loss: 11040.2304 - main_output_loss: 8950.1553 - aux_output1_loss: 10533.3574 - aux_output2_loss: 10531.7734\nEpoch 16/50\n550068/550068 [==============================] - 6s 10us/step - loss: 10848.5602 - main_output_loss: 8745.2080 - aux_output1_loss: 10517.6006 - aux_output2_loss: 10516.0449\nEpoch 17/50\n550068/550068 [==============================] - 6s 10us/step - loss: 10647.7627 - main_output_loss: 8527.1182 - aux_output1_loss: 10499.2549 - aux_output2_loss: 10497.6816\nEpoch 18/50\n550068/550068 [==============================] - 5s 10us/step - loss: 10438.6357 - main_output_loss: 8338.7881 - aux_output1_loss: 10517.9609 - aux_output2_loss: 10516.4121\nEpoch 19/50\n550068/550068 [==============================] - 5s 9us/step - loss: 10221.8358 - main_output_loss: 8115.9385 - aux_output1_loss: 10512.4521 - aux_output2_loss: 10510.8955\nEpoch 20/50\n550068/550068 [==============================] - 5s 10us/step - loss: 9997.8802 - main_output_loss: 7884.0767 - aux_output1_loss: 10503.7549 - aux_output2_loss: 10502.2090\nEpoch 21/50\n550068/550068 [==============================] - 5s 10us/step - loss: 9767.8235 - main_output_loss: 7665.8916 - aux_output1_loss: 10511.6221 - aux_output2_loss: 10510.0791\nEpoch 22/50\n550068/550068 [==============================] - 5s 10us/step - loss: 9532.4058 - main_output_loss: 7442.8247 - aux_output1_loss: 10525.0684 - aux_output2_loss: 10523.5332\nEpoch 23/50\n550068/550068 [==============================] - 5s 10us/step - loss: 9292.3784 - main_output_loss: 7192.5439 - aux_output1_loss: 10510.2920 - aux_output2_loss: 10508.7588\nEpoch 24/50\n550068/550068 [==============================] - 5s 10us/step - loss: 9049.3579 - main_output_loss: 6952.3604 - aux_output1_loss: 10511.3457 - aux_output2_loss: 10509.8301\nEpoch 25/50\n550068/550068 [==============================] - 5s 10us/step - loss: 8805.0422 - main_output_loss: 6724.6079 - aux_output1_loss: 10528.4951 - aux_output2_loss: 10526.9912\nEpoch 26/50\n550068/550068 [==============================] - 5s 10us/step - loss: 8561.2450 - main_output_loss: 6453.0439 - aux_output1_loss: 10499.4668 - aux_output2_loss: 10497.9863\nEpoch 27/50\n550068/550068 [==============================] - 5s 10us/step - loss: 8320.0043 - main_output_loss: 6227.6763 - aux_output1_loss: 10511.7959 - aux_output2_loss: 10510.3311\nEpoch 28/50\n550068/550068 [==============================] - 5s 10us/step - loss: 8082.4235 - main_output_loss: 5984.3584 - aux_output1_loss: 10503.9033 - aux_output2_loss: 10502.4551\nEpoch 29/50\n550068/550068 [==============================] - 5s 9us/step - loss: 7847.1821 - main_output_loss: 5762.9092 - aux_output1_loss: 10522.6104 - aux_output2_loss: 10521.2471\nEpoch 30/50\n550068/550068 [==============================] - 5s 10us/step - loss: 7584.6135 - main_output_loss: 5479.4390 - aux_output1_loss: 10494.8428 - aux_output2_loss: 10494.2793\nEpoch 31/50\n550068/550068 [==============================] - 5s 10us/step - loss: 7327.2692 - main_output_loss: 5224.4844 - aux_output1_loss: 10501.4951 - aux_output2_loss: 10502.7969\nEpoch 32/50\n550068/550068 [==============================] - 5s 10us/step - loss: 7093.7247 - main_output_loss: 4988.1694 - aux_output1_loss: 10493.6562 - aux_output2_loss: 10496.4287\nEpoch 33/50\n550068/550068 [==============================] - 5s 10us/step - loss: 6866.2128 - main_output_loss: 4758.7944 - aux_output1_loss: 10488.1270 - aux_output2_loss: 10492.4834\nEpoch 34/50\n550068/550068 [==============================] - 5s 10us/step - loss: 6642.8397 - main_output_loss: 4536.5869 - aux_output1_loss: 10490.9521 - aux_output2_loss: 10497.0830\nEpoch 35/50\n550068/550068 [==============================] - 5s 9us/step - loss: 6423.5314 - main_output_loss: 4331.6196 - aux_output1_loss: 10505.4893 - aux_output2_loss: 10513.4277\nEpoch 36/50\n550068/550068 [==============================] - 5s 10us/step - loss: 6209.8481 - main_output_loss: 4108.4683 - aux_output1_loss: 10493.1260 - aux_output2_loss: 10502.9980\nEpoch 37/50\n550068/550068 [==============================] - 5s 10us/step - loss: 6003.9866 - main_output_loss: 3903.0942 - aux_output1_loss: 10495.3730 - aux_output2_loss: 10507.1562\nEpoch 38/50\n550068/550068 [==============================] - 5s 10us/step - loss: 5809.3399 - main_output_loss: 3709.4512 - aux_output1_loss: 10491.0518 - aux_output2_loss: 10504.7812\nEpoch 39/50\n550068/550068 [==============================] - 5s 10us/step - loss: 5629.2005 - main_output_loss: 3525.1926 - aux_output1_loss: 10486.1797 - aux_output2_loss: 10501.7197\nEpoch 40/50\n550068/550068 [==============================] - 6s 10us/step - loss: 5461.8114 - main_output_loss: 3369.1313 - aux_output1_loss: 10500.8047 - aux_output2_loss: 10518.3594\nEpoch 41/50\n550068/550068 [==============================] - 5s 10us/step - loss: 5311.7797 - main_output_loss: 3213.6782 - aux_output1_loss: 10491.8896 - aux_output2_loss: 10511.6230\nEpoch 42/50\n550068/550068 [==============================] - 5s 10us/step - loss: 5182.1430 - main_output_loss: 3081.0972 - aux_output1_loss: 10498.6270 - aux_output2_loss: 10520.4502\nEpoch 43/50\n550068/550068 [==============================] - 5s 10us/step - loss: 5072.6897 - main_output_loss: 2971.3928 - aux_output1_loss: 10458.6719 - aux_output2_loss: 10482.9385\nEpoch 44/50\n550068/550068 [==============================] - 5s 10us/step - loss: 4984.6086 - main_output_loss: 2876.4319 - aux_output1_loss: 10469.7588 - aux_output2_loss: 10496.3916\nEpoch 45/50\n550068/550068 [==============================] - 5s 10us/step - loss: 4915.4778 - main_output_loss: 2824.4453 - aux_output1_loss: 10482.4404 - aux_output2_loss: 10511.5176\nEpoch 46/50\n550068/550068 [==============================] - 6s 10us/step - loss: 4863.4526 - main_output_loss: 2766.5217 - aux_output1_loss: 10485.5234 - aux_output2_loss: 10517.1660\nEpoch 47/50\n550068/550068 [==============================] - 5s 10us/step - loss: 4822.7002 - main_output_loss: 2718.6665 - aux_output1_loss: 10486.4463 - aux_output2_loss: 10520.8447\nEpoch 48/50\n550068/550068 [==============================] - 5s 10us/step - loss: 4796.6880 - main_output_loss: 2689.6099 - aux_output1_loss: 10463.4170 - aux_output2_loss: 10500.2471\nEpoch 49/50\n550068/550068 [==============================] - 5s 10us/step - loss: 4766.2443 - main_output_loss: 2674.0002 - aux_output1_loss: 10461.8281 - aux_output2_loss: 10500.4121\nEpoch 50/50\n550068/550068 [==============================] - 5s 10us/step - loss: 4690.8141 - main_output_loss: 2587.0994 - aux_output1_loss: 10464.1094 - aux_output2_loss: 10501.4209\n"
    },
    {
     "output_type": "execute_result",
     "data": {
      "text/plain": "<keras.callbacks.callbacks.History at 0x133032ab248>"
     },
     "metadata": {},
     "execution_count": 64
    }
   ],
   "source": [
    "# Headline input: meant to receive sequences of 100 integers, between 1 and 10000.\n",
    "# Note that we can name any layer by passing it a \"name\" argument.\n",
    "embedding1Size = pd.concat((trainSet[\"User_ID\"], testSet[\"User_ID\"]), axis=0).nunique()\n",
    "embedding2Size = pd.concat((trainSet[\"Product_ID\"], testSet[\"Product_ID\"]), axis=0).nunique()\n",
    "embedding1Input = Input(shape=(1,), dtype='int32', name='embedding1input')\n",
    "embedding2Input = Input(shape=(1,), dtype='int32', name='embedding2input')\n",
    "x = Embedding(output_dim=50, input_dim=embedding1Size, input_length=1)(embedding1Input)\n",
    "y = Embedding(output_dim=50, input_dim=embedding2Size, input_length=1)(embedding2Input)\n",
    "dense1Out = LSTM(32)(x)\n",
    "dense2Out = LSTM(32)(y)\n",
    "auxiliary_output1 = Dense(1, name='aux_output1')(dense1Out)\n",
    "auxiliary_output2 = Dense(1, name='aux_output2')(dense2Out)\n",
    "\n",
    "\n",
    "auxiliary_input = Input(shape=(94,), name='aux_input')\n",
    "x = concatenate([dense1Out, dense2Out, auxiliary_input])\n",
    "\n",
    "# We stack a deep densely-connected network on top\n",
    "x = Dense(64, activation='relu')(x)\n",
    "#x = Dense(64, activation='relu')(x)\n",
    "#x = Dense(64, activation='relu')(x)\n",
    "\n",
    "# And finally we add the main logistic regression layer\n",
    "main_output = Dense(1, name='main_output')(x)\n",
    "\n",
    "model = Model(inputs=[embedding1Input, embedding2Input, auxiliary_input], outputs=[main_output, auxiliary_output1, auxiliary_output2])\n",
    "\n",
    "def root_mean_squared_error(y_true, y_pred):\n",
    "        return K.sqrt(K.mean(K.square(y_pred - y_true)))\n",
    "\n",
    "model.compile(optimizer='rmsprop',\n",
    "              loss={'main_output': root_mean_squared_error, 'aux_output1': root_mean_squared_error, 'aux_output2': root_mean_squared_error},\n",
    "              loss_weights={'main_output': 1., 'aux_output1': 0.1, 'aux_output2': 0.1})\n",
    "\n",
    "model.fit({'embedding1input': trainSet[\"User_ID\"], 'embedding2input': trainSet[\"Product_ID\"], 'aux_input': trainSet.drop(labEncoding, axis=1)},\n",
    "          {'main_output': target, 'aux_output1': target, 'aux_output2': target, },\n",
    "          epochs=50, batch_size=10000)"
   ]
  },
  {
   "cell_type": "code",
   "execution_count": 86,
   "metadata": {
    "tags": []
   },
   "outputs": [
    {
     "output_type": "stream",
     "name": "stdout",
     "text": "[[15957.793 ]\n [11669.232 ]\n [ 6372.971 ]\n ...\n [ 9577.84  ]\n [16306.904 ]\n [ 2939.0476]]\n(233599, 1)\n(233599,)\n"
    },
    {
     "output_type": "error",
     "ename": "Exception",
     "evalue": "Data must be 1-dimensional",
     "traceback": [
      "\u001b[1;31m---------------------------------------------------------------------------\u001b[0m",
      "\u001b[1;31mException\u001b[0m                                 Traceback (most recent call last)",
      "\u001b[1;32m<ipython-input-86-ddf4a20e9373>\u001b[0m in \u001b[0;36m<module>\u001b[1;34m\u001b[0m\n\u001b[0;32m      5\u001b[0m \u001b[0mdata\u001b[0m \u001b[1;33m=\u001b[0m \u001b[1;33m{\u001b[0m\u001b[1;34m\"Purchase\"\u001b[0m\u001b[1;33m:\u001b[0m \u001b[0mpreds\u001b[0m\u001b[1;33m,\u001b[0m \u001b[1;34m\"User_ID\"\u001b[0m\u001b[1;33m:\u001b[0m \u001b[0mtestSetOrig\u001b[0m\u001b[1;33m[\u001b[0m\u001b[1;34m\"User_ID\"\u001b[0m\u001b[1;33m]\u001b[0m\u001b[1;33m}\u001b[0m\u001b[1;33m\u001b[0m\u001b[1;33m\u001b[0m\u001b[0m\n\u001b[0;32m      6\u001b[0m \u001b[0mprint\u001b[0m\u001b[1;33m(\u001b[0m\u001b[0mtestSetOrig\u001b[0m\u001b[1;33m[\u001b[0m\u001b[1;34m\"User_ID\"\u001b[0m\u001b[1;33m]\u001b[0m\u001b[1;33m.\u001b[0m\u001b[0mshape\u001b[0m\u001b[1;33m)\u001b[0m\u001b[1;33m\u001b[0m\u001b[1;33m\u001b[0m\u001b[0m\n\u001b[1;32m----> 7\u001b[1;33m \u001b[0msub\u001b[0m \u001b[1;33m=\u001b[0m \u001b[0mpd\u001b[0m\u001b[1;33m.\u001b[0m\u001b[0mDataFrame\u001b[0m\u001b[1;33m(\u001b[0m\u001b[0mdata\u001b[0m\u001b[1;33m=\u001b[0m\u001b[0mdata\u001b[0m\u001b[1;33m)\u001b[0m\u001b[1;33m\u001b[0m\u001b[1;33m\u001b[0m\u001b[0m\n\u001b[0m\u001b[0;32m      8\u001b[0m \u001b[0mprint\u001b[0m\u001b[1;33m(\u001b[0m\u001b[0msub\u001b[0m\u001b[1;33m)\u001b[0m\u001b[1;33m\u001b[0m\u001b[1;33m\u001b[0m\u001b[0m\n",
      "\u001b[1;32m~\\Documents\\python-envs\\Cundall\\lib\\site-packages\\pandas\\core\\frame.py\u001b[0m in \u001b[0;36m__init__\u001b[1;34m(self, data, index, columns, dtype, copy)\u001b[0m\n\u001b[0;32m    433\u001b[0m             )\n\u001b[0;32m    434\u001b[0m         \u001b[1;32melif\u001b[0m \u001b[0misinstance\u001b[0m\u001b[1;33m(\u001b[0m\u001b[0mdata\u001b[0m\u001b[1;33m,\u001b[0m \u001b[0mdict\u001b[0m\u001b[1;33m)\u001b[0m\u001b[1;33m:\u001b[0m\u001b[1;33m\u001b[0m\u001b[1;33m\u001b[0m\u001b[0m\n\u001b[1;32m--> 435\u001b[1;33m             \u001b[0mmgr\u001b[0m \u001b[1;33m=\u001b[0m \u001b[0minit_dict\u001b[0m\u001b[1;33m(\u001b[0m\u001b[0mdata\u001b[0m\u001b[1;33m,\u001b[0m \u001b[0mindex\u001b[0m\u001b[1;33m,\u001b[0m \u001b[0mcolumns\u001b[0m\u001b[1;33m,\u001b[0m \u001b[0mdtype\u001b[0m\u001b[1;33m=\u001b[0m\u001b[0mdtype\u001b[0m\u001b[1;33m)\u001b[0m\u001b[1;33m\u001b[0m\u001b[1;33m\u001b[0m\u001b[0m\n\u001b[0m\u001b[0;32m    436\u001b[0m         \u001b[1;32melif\u001b[0m \u001b[0misinstance\u001b[0m\u001b[1;33m(\u001b[0m\u001b[0mdata\u001b[0m\u001b[1;33m,\u001b[0m \u001b[0mma\u001b[0m\u001b[1;33m.\u001b[0m\u001b[0mMaskedArray\u001b[0m\u001b[1;33m)\u001b[0m\u001b[1;33m:\u001b[0m\u001b[1;33m\u001b[0m\u001b[1;33m\u001b[0m\u001b[0m\n\u001b[0;32m    437\u001b[0m             \u001b[1;32mimport\u001b[0m \u001b[0mnumpy\u001b[0m\u001b[1;33m.\u001b[0m\u001b[0mma\u001b[0m\u001b[1;33m.\u001b[0m\u001b[0mmrecords\u001b[0m \u001b[1;32mas\u001b[0m \u001b[0mmrecords\u001b[0m\u001b[1;33m\u001b[0m\u001b[1;33m\u001b[0m\u001b[0m\n",
      "\u001b[1;32m~\\Documents\\python-envs\\Cundall\\lib\\site-packages\\pandas\\core\\internals\\construction.py\u001b[0m in \u001b[0;36minit_dict\u001b[1;34m(data, index, columns, dtype)\u001b[0m\n\u001b[0;32m    252\u001b[0m             \u001b[0marr\u001b[0m \u001b[1;32mif\u001b[0m \u001b[1;32mnot\u001b[0m \u001b[0mis_datetime64tz_dtype\u001b[0m\u001b[1;33m(\u001b[0m\u001b[0marr\u001b[0m\u001b[1;33m)\u001b[0m \u001b[1;32melse\u001b[0m \u001b[0marr\u001b[0m\u001b[1;33m.\u001b[0m\u001b[0mcopy\u001b[0m\u001b[1;33m(\u001b[0m\u001b[1;33m)\u001b[0m \u001b[1;32mfor\u001b[0m \u001b[0marr\u001b[0m \u001b[1;32min\u001b[0m \u001b[0marrays\u001b[0m\u001b[1;33m\u001b[0m\u001b[1;33m\u001b[0m\u001b[0m\n\u001b[0;32m    253\u001b[0m         ]\n\u001b[1;32m--> 254\u001b[1;33m     \u001b[1;32mreturn\u001b[0m \u001b[0marrays_to_mgr\u001b[0m\u001b[1;33m(\u001b[0m\u001b[0marrays\u001b[0m\u001b[1;33m,\u001b[0m \u001b[0mdata_names\u001b[0m\u001b[1;33m,\u001b[0m \u001b[0mindex\u001b[0m\u001b[1;33m,\u001b[0m \u001b[0mcolumns\u001b[0m\u001b[1;33m,\u001b[0m \u001b[0mdtype\u001b[0m\u001b[1;33m=\u001b[0m\u001b[0mdtype\u001b[0m\u001b[1;33m)\u001b[0m\u001b[1;33m\u001b[0m\u001b[1;33m\u001b[0m\u001b[0m\n\u001b[0m\u001b[0;32m    255\u001b[0m \u001b[1;33m\u001b[0m\u001b[0m\n\u001b[0;32m    256\u001b[0m \u001b[1;33m\u001b[0m\u001b[0m\n",
      "\u001b[1;32m~\\Documents\\python-envs\\Cundall\\lib\\site-packages\\pandas\\core\\internals\\construction.py\u001b[0m in \u001b[0;36marrays_to_mgr\u001b[1;34m(arrays, arr_names, index, columns, dtype)\u001b[0m\n\u001b[0;32m     67\u001b[0m \u001b[1;33m\u001b[0m\u001b[0m\n\u001b[0;32m     68\u001b[0m     \u001b[1;31m# don't force copy because getting jammed in an ndarray anyway\u001b[0m\u001b[1;33m\u001b[0m\u001b[1;33m\u001b[0m\u001b[1;33m\u001b[0m\u001b[0m\n\u001b[1;32m---> 69\u001b[1;33m     \u001b[0marrays\u001b[0m \u001b[1;33m=\u001b[0m \u001b[0m_homogenize\u001b[0m\u001b[1;33m(\u001b[0m\u001b[0marrays\u001b[0m\u001b[1;33m,\u001b[0m \u001b[0mindex\u001b[0m\u001b[1;33m,\u001b[0m \u001b[0mdtype\u001b[0m\u001b[1;33m)\u001b[0m\u001b[1;33m\u001b[0m\u001b[1;33m\u001b[0m\u001b[0m\n\u001b[0m\u001b[0;32m     70\u001b[0m \u001b[1;33m\u001b[0m\u001b[0m\n\u001b[0;32m     71\u001b[0m     \u001b[1;31m# from BlockManager perspective\u001b[0m\u001b[1;33m\u001b[0m\u001b[1;33m\u001b[0m\u001b[1;33m\u001b[0m\u001b[0m\n",
      "\u001b[1;32m~\\Documents\\python-envs\\Cundall\\lib\\site-packages\\pandas\\core\\internals\\construction.py\u001b[0m in \u001b[0;36m_homogenize\u001b[1;34m(data, index, dtype)\u001b[0m\n\u001b[0;32m    321\u001b[0m                 \u001b[0mval\u001b[0m \u001b[1;33m=\u001b[0m \u001b[0mlib\u001b[0m\u001b[1;33m.\u001b[0m\u001b[0mfast_multiget\u001b[0m\u001b[1;33m(\u001b[0m\u001b[0mval\u001b[0m\u001b[1;33m,\u001b[0m \u001b[0moindex\u001b[0m\u001b[1;33m.\u001b[0m\u001b[0mvalues\u001b[0m\u001b[1;33m,\u001b[0m \u001b[0mdefault\u001b[0m\u001b[1;33m=\u001b[0m\u001b[0mnp\u001b[0m\u001b[1;33m.\u001b[0m\u001b[0mnan\u001b[0m\u001b[1;33m)\u001b[0m\u001b[1;33m\u001b[0m\u001b[1;33m\u001b[0m\u001b[0m\n\u001b[0;32m    322\u001b[0m             val = sanitize_array(\n\u001b[1;32m--> 323\u001b[1;33m                 \u001b[0mval\u001b[0m\u001b[1;33m,\u001b[0m \u001b[0mindex\u001b[0m\u001b[1;33m,\u001b[0m \u001b[0mdtype\u001b[0m\u001b[1;33m=\u001b[0m\u001b[0mdtype\u001b[0m\u001b[1;33m,\u001b[0m \u001b[0mcopy\u001b[0m\u001b[1;33m=\u001b[0m\u001b[1;32mFalse\u001b[0m\u001b[1;33m,\u001b[0m \u001b[0mraise_cast_failure\u001b[0m\u001b[1;33m=\u001b[0m\u001b[1;32mFalse\u001b[0m\u001b[1;33m\u001b[0m\u001b[1;33m\u001b[0m\u001b[0m\n\u001b[0m\u001b[0;32m    324\u001b[0m             )\n\u001b[0;32m    325\u001b[0m \u001b[1;33m\u001b[0m\u001b[0m\n",
      "\u001b[1;32m~\\Documents\\python-envs\\Cundall\\lib\\site-packages\\pandas\\core\\construction.py\u001b[0m in \u001b[0;36msanitize_array\u001b[1;34m(data, index, dtype, copy, raise_cast_failure)\u001b[0m\n\u001b[0;32m    480\u001b[0m     \u001b[1;32melif\u001b[0m \u001b[0msubarr\u001b[0m\u001b[1;33m.\u001b[0m\u001b[0mndim\u001b[0m \u001b[1;33m>\u001b[0m \u001b[1;36m1\u001b[0m\u001b[1;33m:\u001b[0m\u001b[1;33m\u001b[0m\u001b[1;33m\u001b[0m\u001b[0m\n\u001b[0;32m    481\u001b[0m         \u001b[1;32mif\u001b[0m \u001b[0misinstance\u001b[0m\u001b[1;33m(\u001b[0m\u001b[0mdata\u001b[0m\u001b[1;33m,\u001b[0m \u001b[0mnp\u001b[0m\u001b[1;33m.\u001b[0m\u001b[0mndarray\u001b[0m\u001b[1;33m)\u001b[0m\u001b[1;33m:\u001b[0m\u001b[1;33m\u001b[0m\u001b[1;33m\u001b[0m\u001b[0m\n\u001b[1;32m--> 482\u001b[1;33m             \u001b[1;32mraise\u001b[0m \u001b[0mException\u001b[0m\u001b[1;33m(\u001b[0m\u001b[1;34m\"Data must be 1-dimensional\"\u001b[0m\u001b[1;33m)\u001b[0m\u001b[1;33m\u001b[0m\u001b[1;33m\u001b[0m\u001b[0m\n\u001b[0m\u001b[0;32m    483\u001b[0m         \u001b[1;32melse\u001b[0m\u001b[1;33m:\u001b[0m\u001b[1;33m\u001b[0m\u001b[1;33m\u001b[0m\u001b[0m\n\u001b[0;32m    484\u001b[0m             \u001b[0msubarr\u001b[0m \u001b[1;33m=\u001b[0m \u001b[0mcom\u001b[0m\u001b[1;33m.\u001b[0m\u001b[0masarray_tuplesafe\u001b[0m\u001b[1;33m(\u001b[0m\u001b[0mdata\u001b[0m\u001b[1;33m,\u001b[0m \u001b[0mdtype\u001b[0m\u001b[1;33m=\u001b[0m\u001b[0mdtype\u001b[0m\u001b[1;33m)\u001b[0m\u001b[1;33m\u001b[0m\u001b[1;33m\u001b[0m\u001b[0m\n",
      "\u001b[1;31mException\u001b[0m: Data must be 1-dimensional"
     ]
    }
   ],
   "source": [
    "preds = model.predict({'embedding1input': testSet[\"User_ID\"], 'embedding2input': testSet[\"Product_ID\"], 'aux_input': testSet.drop(labEncoding, axis=1)})[0]\n",
    "print(preds)\n",
    "testSetOrig = pd.read_csv(\"C:\\\\Users\\\\krimb\\\\Documents\\\\BlackFridayDataScience\\\\test.csv\", header=0)\n",
    "print(preds.shape)\n",
    "data = {\"Purchase\": preds, \"User_ID\": testSetOrig[\"User_ID\"]}\n",
    "print(testSetOrig[\"User_ID\"].shape)\n",
    "sub = pd.DataFrame(data=data)\n",
    "print(sub)"
   ]
  },
  {
   "cell_type": "code",
   "execution_count": null,
   "metadata": {},
   "outputs": [],
   "source": []
  }
 ]
}